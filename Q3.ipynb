{
 "cells": [
  {
   "cell_type": "code",
   "execution_count": 36,
   "id": "fb0f7768",
   "metadata": {},
   "outputs": [],
   "source": [
    "\n",
    "f = open(\"sample_AAPL.txt\", \"r\")\n",
    "listItems = f.read().splitlines()\n",
    "appleprices=listItems\n",
    "for i in range(0, len(listItems)): \n",
    " appleprices[i] = float(listItems[i])"
   ]
  },
  {
   "cell_type": "code",
   "execution_count": 37,
   "id": "acb599cc",
   "metadata": {},
   "outputs": [
    {
     "name": "stdout",
     "output_type": "stream",
     "text": [
      "Maximum Profit: 80.854996 $\n"
     ]
    }
   ],
   "source": [
    "def buy_sell(appleprices):\n",
    "    current_max_val, max_profit_val = 0\n",
    "    for price in reversed(appleprices):\n",
    "        current_max_val = max(current_max_val, price)\n",
    "        potential_profit = current_max_val - price\n",
    "        max_profit_val = max(potential_profit, max_profit_val)\n",
    "\n",
    "print(\"Maximum Profit:\", max_profit_val,\"$\")\n"
   ]
  },
  {
   "cell_type": "code",
   "execution_count": null,
   "id": "7e4866eb",
   "metadata": {},
   "outputs": [],
   "source": []
  }
 ],
 "metadata": {
  "kernelspec": {
   "display_name": "Python 3 (ipykernel)",
   "language": "python",
   "name": "python3"
  },
  "language_info": {
   "codemirror_mode": {
    "name": "ipython",
    "version": 3
   },
   "file_extension": ".py",
   "mimetype": "text/x-python",
   "name": "python",
   "nbconvert_exporter": "python",
   "pygments_lexer": "ipython3",
   "version": "3.11.4"
  }
 },
 "nbformat": 4,
 "nbformat_minor": 5
}
