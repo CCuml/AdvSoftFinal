{
 "cells": [
  {
   "cell_type": "code",
   "execution_count": 21,
   "id": "79047d06",
   "metadata": {},
   "outputs": [],
   "source": [
    "import statistics\n",
    "import matplotlib.pyplot as plt\n",
    "\n",
    "f = open(\"sample_AAPL.txt\", \"r\")\n",
    "listItems = f.read().splitlines()\n",
    "appleprices=listItems\n",
    "for i in range(0, len(listItems)): \n",
    " appleprices[i] = float(listItems[i])"
   ]
  },
  {
   "cell_type": "code",
   "execution_count": 22,
   "id": "42801b33",
   "metadata": {},
   "outputs": [
    {
     "name": "stdout",
     "output_type": "stream",
     "text": [
      "88.68756945238096\n"
     ]
    }
   ],
   "source": [
    "MP= sum(appleprices)/len(appleprices)\n",
    "print(MP)"
   ]
  },
  {
   "cell_type": "code",
   "execution_count": 23,
   "id": "b74c55a8",
   "metadata": {},
   "outputs": [
    {
     "name": "stdout",
     "output_type": "stream",
     "text": [
      "20.49593582881753\n"
     ]
    }
   ],
   "source": [
    "stdvP=statistics.stdev(appleprices)\n",
    "print(stdvP)"
   ]
  },
  {
   "cell_type": "code",
   "execution_count": null,
   "id": "23cc6c39",
   "metadata": {},
   "outputs": [],
   "source": []
  }
 ],
 "metadata": {
  "kernelspec": {
   "display_name": "Python 3 (ipykernel)",
   "language": "python",
   "name": "python3"
  },
  "language_info": {
   "codemirror_mode": {
    "name": "ipython",
    "version": 3
   },
   "file_extension": ".py",
   "mimetype": "text/x-python",
   "name": "python",
   "nbconvert_exporter": "python",
   "pygments_lexer": "ipython3",
   "version": "3.11.4"
  }
 },
 "nbformat": 4,
 "nbformat_minor": 5
}
